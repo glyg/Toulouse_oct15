{
 "cells": [
  {
   "cell_type": "markdown",
   "metadata": {
    "slideshow": {
     "slide_type": "slide"
    }
   },
   "source": [
    "# Towards a generic library to model biological tissues\n",
    "\n",
    "**Guillaume Gay** \n",
    "\n",
    "DamCB - Data analysis and modeling for Cell Biology\n",
    "\n",
    "in collaboration with \n",
    "\n",
    "> **Magali Suzanne's team**, UPS/CNRS, Toulouse"
   ]
  },
  {
   "cell_type": "markdown",
   "metadata": {
    "slideshow": {
     "slide_type": "slide"
    }
   },
   "source": [
    "<hr/>\n",
    "\n",
    "## Why model?\n",
    "\n",
    "<hr/>"
   ]
  },
  {
   "cell_type": "markdown",
   "metadata": {
    "slideshow": {
     "slide_type": "slide"
    }
   },
   "source": [
    "## What kind of model?\n",
    "\n",
    "![Family tree](models_family_tree.svg)"
   ]
  },
  {
   "cell_type": "markdown",
   "metadata": {
    "slideshow": {
     "slide_type": "slide"
    }
   },
   "source": [
    "## Modeling fold formation: the `leg-joint` project\n",
    "\n",
    "<hr/>\n",
    "\n",
    "![Drosophila metamorphosis](bio_droso_dev.svg)\n",
    "\n",
    "\n",
    "\n",
    "sources: [fly photo](https://upload.wikimedia.org/wikipedia/commons/4/4c/Drosophila_melanogaster_-_side_%28aka%29.jpg), [sketch](http://www.swarthmore.edu/NatSci/sgilber1/DB_lab/Student/fly_webo4/web%20presentation/fly_diagram.jpg)\n"
   ]
  },
  {
   "cell_type": "markdown",
   "metadata": {
    "slideshow": {
     "slide_type": "slide"
    }
   },
   "source": [
    "### What do we need to model? \n",
    "\n",
    "![Vue apicale](bio_legjoint_apical_view.svg)\n"
   ]
  },
  {
   "cell_type": "markdown",
   "metadata": {
    "slideshow": {
     "slide_type": "slide"
    }
   },
   "source": [
    "### Epithelium simulation\n",
    "\n",
    "![In silico legjoint simulation](silico_legjoint.svg)\n"
   ]
  },
  {
   "cell_type": "markdown",
   "metadata": {
    "slideshow": {
     "slide_type": "slide"
    }
   },
   "source": [
    "## The `tyssue` project\n",
    "\n",
    "![Google image seach for 'epithelium'](google_search_epithelium.png)"
   ]
  },
  {
   "cell_type": "markdown",
   "metadata": {
    "slideshow": {
     "slide_type": "slide"
    }
   },
   "source": [
    "### Epithelium topology\n",
    "\n",
    "![Linear Cell Complex](linearcellcomplex.svg)"
   ]
  },
  {
   "cell_type": "markdown",
   "metadata": {
    "slideshow": {
     "slide_type": "slide"
    }
   },
   "source": [
    "### A modular implementation\n",
    "\n",
    "![tyssue library structure](tyssue_data_management.svg)"
   ]
  },
  {
   "cell_type": "markdown",
   "metadata": {
    "slideshow": {
     "slide_type": "slide"
    }
   },
   "source": [
    "## Open source, tested, reproducible\n",
    "\n",
    "More details:\n",
    "\n",
    "[damcb.com/gathering_thoughts.html](http://damcb.com/gathering_thoughts.html)\n",
    "\n",
    "The code:\n",
    "\n",
    "> [github.com/DamCB/tyssue](https://github.com/CellModels/tyssue)\n",
    "\n",
    "[![Build Status](https://travis-ci.org/DamCB/tyssue.svg?branch=master)](https://travis-ci.org/DamCB/tyssue)\n",
    "\n",
    "[![Coverage Status](https://coveralls.io/repos/CellModels/tyssue/badge.svg)](https://coveralls.io/r/CellModels/tyssue)\n"
   ]
  },
  {
   "cell_type": "markdown",
   "metadata": {
    "slideshow": {
     "slide_type": "slide"
    }
   },
   "source": [
    "## Big Thanks\n",
    "\n",
    "#### Toulouse research team\n",
    "\n",
    "Mélanie Gettings, Bruno Monier, Sonia Shott, Thomas Mangeat,\n",
    "Corinne Bennassayag & ** Magali Suzanne **\n",
    "\n",
    "#### The physicists\n",
    "\n",
    "Cyprien Gay & François Molino\n",
    "\n",
    "#### The scipy community\n",
    "\n",
    "Tiago Peixoto & Hadrien Mary\n",
    "\n",
    "#### Special thanks\n",
    "\n",
    "Alexandre Freulon\n"
   ]
  },
  {
   "cell_type": "code",
   "execution_count": 1,
   "metadata": {
    "collapsed": false,
    "slideshow": {
     "slide_type": "skip"
    }
   },
   "outputs": [],
   "source": [
    "import logging\n",
    "logging.disable(logging.INFO)\n",
    "\n",
    "import numpy as np\n",
    "import pandas as pd\n",
    "\n",
    "import matplotlib.pylab as plt\n",
    "%matplotlib inline\n",
    "\n",
    "import tyssue as ty\n",
    "from tyssue.core import Epithelium, Cell, JunctionEdge, JunctionVertex\n",
    "from tyssue.core.generation import jv_data, cell_data, je_data\n",
    "from tyssue.geometry import sheet_geometry as geom\n",
    "import vispy as vp\n",
    "from vispy import scene, app\n",
    "\n"
   ]
  },
  {
   "cell_type": "code",
   "execution_count": 2,
   "metadata": {
    "collapsed": false,
    "slideshow": {
     "slide_type": "slide"
    }
   },
   "outputs": [],
   "source": [
    "coords = ['z', 'x', 'y']\n",
    "\n",
    "with pd.get_store('../../Python/tyssue/notebooks/leg_joint import/before_apoptosis.hf5') as store:\n",
    "    cell_df = store.get('cell_df')\n",
    "    jv_df = store.get('jv_df')\n",
    "    je_df = store.get('je_df')\n",
    "    \n",
    "eptm = Epithelium('before', cell_df, jv_df, je_df)\n",
    "vertices, faces, cell_mask = eptm.triangular_mesh(coords)"
   ]
  },
  {
   "cell_type": "code",
   "execution_count": 3,
   "metadata": {
    "collapsed": false,
    "scrolled": true,
    "slideshow": {
     "slide_type": "subslide"
    }
   },
   "outputs": [
    {
     "name": "stderr",
     "output_type": "stream",
     "text": [
      "/home/guillaume/anaconda/envs/tyssue/lib/python3.4/site-packages/IPython/config.py:13: ShimWarning: The `IPython.config` package has been deprecated. You should import from traitlets.config instead.\n",
      "  \"You should import from traitlets.config instead.\", ShimWarning)\n"
     ]
    },
    {
     "data": {
      "text/plain": [
       "0"
      ]
     },
     "execution_count": 3,
     "metadata": {},
     "output_type": "execute_result"
    }
   ],
   "source": [
    "\n",
    "\n",
    "canvas = scene.SceneCanvas(keys='interactive', show=True)\n",
    "\n",
    "#grid = canvas.central_widget.add_grid()\n",
    "view = canvas.central_widget.add_view()\n",
    "view.camera = 'turntable'\n",
    "view.camera.aspect = 1\n",
    "\n",
    "cell_color = vp.color.ColorArray('#006d4a', alpha=0.8)\n",
    "cell_color = cell_color.rgba.repeat(eptm.Nf, axis=0)\n",
    "edge_color = vp.color.ColorArray('#a9aa58', alpha=0.8)\n",
    "view.bgcolor = vp.color.Color('#111111')\n",
    "\n",
    "\n",
    "mesh = vp.scene.visuals.Mesh(vertices=vertices,\n",
    "                             faces=faces,\n",
    "                             face_colors=cell_color)\n",
    "\n",
    "wire_pos = vertices[eptm.Nc:].copy()\n",
    "\n",
    "wire = vp.scene.visuals.Line(pos=wire_pos, \n",
    "                             connect=faces[:, :2]-eptm.Nc,\n",
    "                             color=edge_color,\n",
    "                             width=3)\n",
    "\n",
    "view.add(mesh)\n",
    "view.add(wire)\n",
    "view.camera.set_range()\n",
    "canvas.show()\n",
    "app.run()"
   ]
  },
  {
   "cell_type": "code",
   "execution_count": null,
   "metadata": {
    "collapsed": true
   },
   "outputs": [],
   "source": []
  }
 ],
 "metadata": {
  "celltoolbar": "Slideshow",
  "kernelspec": {
   "display_name": "Python 3",
   "language": "python",
   "name": "python3"
  },
  "language_info": {
   "codemirror_mode": {
    "name": "ipython",
    "version": 3
   },
   "file_extension": ".py",
   "mimetype": "text/x-python",
   "name": "python",
   "nbconvert_exporter": "python",
   "pygments_lexer": "ipython3",
   "version": "3.4.3"
  }
 },
 "nbformat": 4,
 "nbformat_minor": 0
}
